{
 "cells": [
  {
   "cell_type": "code",
   "execution_count": null,
   "metadata": {},
   "outputs": [],
   "source": [
    "import pandas as pd\n",
    "import numpy as np\n",
    "import openpyxl\n",
    "\n",
    "num_rows = 50\n",
    "\n",
    "data = { \n",
    "    'Produto':[f'Produto_{i}' for i in range(1,num_rows + 1)],\n",
    "    'Categoria': np.random.choice(['Televisão', 'Computador', 'Celular','Tablet','Impressora'], size=num_rows),\n",
    "    'Preço': np.random.uniform(100.0, 2000.0, size=num_rows).round(2),\n",
    "    'Quantidade_Estoque': np.random.randint(1, 50, size=num_rows)\n",
    "}\n",
    "df = pd.DataFrame(data)\n",
    "df"
   ]
  },
  {
   "cell_type": "code",
   "execution_count": null,
   "metadata": {},
   "outputs": [],
   "source": [
    "\n",
    "df['Quantidade_Vendida'] = np.random.randint(1, df['Quantidade_Estoque'], size=num_rows)\n",
    "\n",
    "\n",
    "df['Valor_Total_Vendido'] = df['Preço'] * df['Quantidade_Vendida']\n",
    "\n",
    "print(df.head())"
   ]
  },
  {
   "cell_type": "code",
   "execution_count": null,
   "metadata": {},
   "outputs": [],
   "source": [
    "def calcular_valor_total(row):\n",
    "\n",
    "    return row['Preço'] * row['Quantidade_Vendida']\n",
    "\n",
    "data = { \n",
    "    'Produto':[f'Produto_{i}' for i in range(1,num_rows + 1)],\n",
    "    'Categoria': np.random.choice(['Televisão', 'Computador', 'Celular','Tablet','Impreossora'], size=num_rows),\n",
    "    'Preço': np.random.uniform(100.0, 2000.0, size=num_rows).round(2),\n",
    "    'Quantidade_Estoque': np.random.randint(1, 50, size=num_rows)}\n",
    "\n",
    "df['Quantidade_Vendida'] = np.random.randint(1, df['Quantidade_Estoque'], size=num_rows)\n",
    "\n",
    "\n",
    "df['Valor_Total_Vendido'] = df['Preço'] * df['Quantidade_Vendida']\n",
    "\n",
    "\n",
    "df['Valor_Total_Vendido'] = df.apply(calcular_valor_total, axis=1)\n",
    "\n",
    "print(df.head())   \n",
    "print(df['Valor_Total_Vendido'].describe())"
   ]
  },
  {
   "cell_type": "code",
   "execution_count": null,
   "metadata": {},
   "outputs": [],
   "source": [
    "df_filtrCompt = df[df['Categoria'] == 'Computador']\n",
    "print(df_filtrCompt)"
   ]
  },
  {
   "cell_type": "code",
   "execution_count": null,
   "metadata": {},
   "outputs": [],
   "source": [
    "computadores_caros = df[(df['Preço'] > 500) & (df['Categoria'] == 'Computador')]\n",
    "print(computadores_caros)"
   ]
  },
  {
   "cell_type": "code",
   "execution_count": null,
   "metadata": {},
   "outputs": [],
   "source": [
    "impressoras_40 = df[(df['Quantidade_Estoque'] > 40) | (df['Categoria'] == 'Impressora')]\n",
    "print(impressoras_40)"
   ]
  },
  {
   "cell_type": "code",
   "execution_count": 20,
   "metadata": {},
   "outputs": [],
   "source": [
    "caminho_arquivo = r'C:\\Users\\leonardo_n_pessoa\\Desktop\\Exercício\\excel.xlsx'"
   ]
  },
  {
   "cell_type": "code",
   "execution_count": 21,
   "metadata": {},
   "outputs": [],
   "source": [
    "df.to_excel(caminho_arquivo)"
   ]
  }
 ],
 "metadata": {
  "interpreter": {
   "hash": "ac59ebe37160ed0dfa835113d9b8498d9f09ceb179beaac4002f036b9467c963"
  },
  "kernelspec": {
   "display_name": "Python 3.9.7 64-bit (system)",
   "language": "python",
   "name": "python3"
  },
  "language_info": {
   "codemirror_mode": {
    "name": "ipython",
    "version": 3
   },
   "file_extension": ".py",
   "mimetype": "text/x-python",
   "name": "python",
   "nbconvert_exporter": "python",
   "pygments_lexer": "ipython3",
   "version": "3.9.7"
  },
  "orig_nbformat": 4
 },
 "nbformat": 4,
 "nbformat_minor": 2
}
